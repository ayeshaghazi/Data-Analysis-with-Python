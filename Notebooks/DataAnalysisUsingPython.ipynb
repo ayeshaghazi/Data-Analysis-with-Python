{
  "nbformat": 4,
  "nbformat_minor": 0,
  "metadata": {
    "colab": {
      "name": "DataAnalysisUsingPython.ipynb",
      "provenance": [],
      "collapsed_sections": []
    },
    "kernelspec": {
      "name": "python3",
      "display_name": "Python 3"
    }
  },
  "cells": [
    {
      "cell_type": "code",
      "metadata": {
        "id": "UodezHcNo1dT",
        "colab": {
          "base_uri": "https://localhost:8080/",
          "height": 295
        },
        "outputId": "d4e2b129-90a7-4d0f-e343-2f1dbfb0dcdc"
      },
      "source": [
        "#Connecting to Google Drive\n",
        "from google.colab import drive\n",
        "drive.mount('/content/gdrive')\n",
        "\n",
        "import pandas as pd\n",
        "import numpy as np\n",
        "\n",
        "filepath = '/content/gdrive/My Drive/DATA/imports-85.data'\n",
        "data = pd.read_csv(filepath, header = None)\n",
        "data.head(n=10)\n",
        "data.tail(n=10)\n",
        "\n",
        "#Assign column names\n",
        "headers = ['Symboling', 'Normalized-Losses', 'Make', 'Fuel-Type', 'Aspiration', 'Num-of-Doors', 'Body-Style', 'Drive-Wheels', \n",
        "           'Engine-Location', 'Wheel-Base', 'Length', 'Width', 'Height', 'Curb-Weight', 'Engine-Type', 'Num-of-Cylinders',\n",
        "           'Engine-Size', 'Fuel-System', 'Bore', 'Stroke', 'Compression-Ratio', 'Horsepower', 'Peak-RPM', 'City-MPG', 'Highway-MPG', 'Price']\n",
        "\n",
        "print('headers \\n', headers)\n",
        "data.columns = headers\n",
        "data.head(n=10)\n",
        "\n",
        "#Exporting dataframe to new CSV file\n",
        "path = '/content/gdrive/My Drive/DATA/Automobiles.csv'\n",
        "data.to_csv(path)\n",
        "#data.to_csv(path, index = false) means that in the exported CSV file, the index column shown in the pandas dataframe will be dropped\n",
        "\n",
        "#Checking data types\n",
        "data.dtypes\n",
        "\n",
        "#Checking the statistical summary\n",
        "data.describe()\n",
        "data.describe(include='all') #NaN stands for not a number\n",
        "\n",
        "data.info()\n",
        "\n",
        "#Replace ? symbols with NaN\n",
        "data1 = data.replace('?', np.NaN)\n",
        "\n",
        "#Drop the missing values in the column 'Price'\n",
        "data = data1.dropna(subset=['Price'], axis=0) \n",
        "#axis=0 means the entire row will be dropped. axis=1 means dropping the column\n",
        "data.head(n=10)\n",
        "\n",
        "#Print the names of the dataframe columns\n",
        "print(data.columns)\n",
        "print(data.dtypes)\n",
        "\n",
        "data[['Length', 'Compression-Ratio']].describe()\n",
        "\n"
      ],
      "execution_count": null,
      "outputs": [
        {
          "output_type": "execute_result",
          "data": {
            "text/html": [
              "<div>\n",
              "<style scoped>\n",
              "    .dataframe tbody tr th:only-of-type {\n",
              "        vertical-align: middle;\n",
              "    }\n",
              "\n",
              "    .dataframe tbody tr th {\n",
              "        vertical-align: top;\n",
              "    }\n",
              "\n",
              "    .dataframe thead th {\n",
              "        text-align: right;\n",
              "    }\n",
              "</style>\n",
              "<table border=\"1\" class=\"dataframe\">\n",
              "  <thead>\n",
              "    <tr style=\"text-align: right;\">\n",
              "      <th></th>\n",
              "      <th>Length</th>\n",
              "      <th>Compression-Ratio</th>\n",
              "    </tr>\n",
              "  </thead>\n",
              "  <tbody>\n",
              "    <tr>\n",
              "      <th>count</th>\n",
              "      <td>201.000000</td>\n",
              "      <td>201.000000</td>\n",
              "    </tr>\n",
              "    <tr>\n",
              "      <th>mean</th>\n",
              "      <td>174.200995</td>\n",
              "      <td>10.164279</td>\n",
              "    </tr>\n",
              "    <tr>\n",
              "      <th>std</th>\n",
              "      <td>12.322175</td>\n",
              "      <td>4.004965</td>\n",
              "    </tr>\n",
              "    <tr>\n",
              "      <th>min</th>\n",
              "      <td>141.100000</td>\n",
              "      <td>7.000000</td>\n",
              "    </tr>\n",
              "    <tr>\n",
              "      <th>25%</th>\n",
              "      <td>166.800000</td>\n",
              "      <td>8.600000</td>\n",
              "    </tr>\n",
              "    <tr>\n",
              "      <th>50%</th>\n",
              "      <td>173.200000</td>\n",
              "      <td>9.000000</td>\n",
              "    </tr>\n",
              "    <tr>\n",
              "      <th>75%</th>\n",
              "      <td>183.500000</td>\n",
              "      <td>9.400000</td>\n",
              "    </tr>\n",
              "    <tr>\n",
              "      <th>max</th>\n",
              "      <td>208.100000</td>\n",
              "      <td>23.000000</td>\n",
              "    </tr>\n",
              "  </tbody>\n",
              "</table>\n",
              "</div>"
            ],
            "text/plain": [
              "           Length  Compression-Ratio\n",
              "count  201.000000         201.000000\n",
              "mean   174.200995          10.164279\n",
              "std     12.322175           4.004965\n",
              "min    141.100000           7.000000\n",
              "25%    166.800000           8.600000\n",
              "50%    173.200000           9.000000\n",
              "75%    183.500000           9.400000\n",
              "max    208.100000          23.000000"
            ]
          },
          "metadata": {
            "tags": []
          },
          "execution_count": 44
        }
      ]
    },
    {
      "cell_type": "code",
      "metadata": {
        "id": "zh6NCUB2DRX0"
      },
      "source": [
        ""
      ],
      "execution_count": null,
      "outputs": []
    }
  ]
}